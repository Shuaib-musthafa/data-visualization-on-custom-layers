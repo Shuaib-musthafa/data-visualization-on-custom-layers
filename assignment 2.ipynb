{
 "cells": [
  {
   "cell_type": "code",
   "execution_count": 2,
   "id": "49184a46",
   "metadata": {},
   "outputs": [
    {
     "name": "stdout",
     "output_type": "stream",
     "text": [
      "Requirement already satisfied: bokeh in c:\\users\\shuhaib\\anaconda3\\lib\\site-packages (3.2.1)\n",
      "Requirement already satisfied: Jinja2>=2.9 in c:\\users\\shuhaib\\anaconda3\\lib\\site-packages (from bokeh) (3.1.2)\n",
      "Requirement already satisfied: contourpy>=1 in c:\\users\\shuhaib\\anaconda3\\lib\\site-packages (from bokeh) (1.0.5)\n",
      "Requirement already satisfied: numpy>=1.16 in c:\\users\\shuhaib\\anaconda3\\lib\\site-packages (from bokeh) (1.24.3)\n",
      "Requirement already satisfied: packaging>=16.8 in c:\\users\\shuhaib\\anaconda3\\lib\\site-packages (from bokeh) (23.2)\n",
      "Requirement already satisfied: pandas>=1.2 in c:\\users\\shuhaib\\anaconda3\\lib\\site-packages (from bokeh) (2.0.3)\n",
      "Requirement already satisfied: pillow>=7.1.0 in c:\\users\\shuhaib\\anaconda3\\lib\\site-packages (from bokeh) (9.4.0)\n",
      "Requirement already satisfied: PyYAML>=3.10 in c:\\users\\shuhaib\\anaconda3\\lib\\site-packages (from bokeh) (6.0)\n",
      "Requirement already satisfied: tornado>=5.1 in c:\\users\\shuhaib\\anaconda3\\lib\\site-packages (from bokeh) (6.3.2)\n",
      "Requirement already satisfied: xyzservices>=2021.09.1 in c:\\users\\shuhaib\\anaconda3\\lib\\site-packages (from bokeh) (2022.9.0)\n",
      "Requirement already satisfied: MarkupSafe>=2.0 in c:\\users\\shuhaib\\anaconda3\\lib\\site-packages (from Jinja2>=2.9->bokeh) (2.1.1)\n",
      "Requirement already satisfied: python-dateutil>=2.8.2 in c:\\users\\shuhaib\\anaconda3\\lib\\site-packages (from pandas>=1.2->bokeh) (2.8.2)\n",
      "Requirement already satisfied: pytz>=2020.1 in c:\\users\\shuhaib\\anaconda3\\lib\\site-packages (from pandas>=1.2->bokeh) (2023.3.post1)\n",
      "Requirement already satisfied: tzdata>=2022.1 in c:\\users\\shuhaib\\anaconda3\\lib\\site-packages (from pandas>=1.2->bokeh) (2023.3)\n",
      "Requirement already satisfied: six>=1.5 in c:\\users\\shuhaib\\anaconda3\\lib\\site-packages (from python-dateutil>=2.8.2->pandas>=1.2->bokeh) (1.16.0)\n",
      "Note: you may need to restart the kernel to use updated packages.\n"
     ]
    }
   ],
   "source": [
    "pip install bokeh"
   ]
  },
  {
   "cell_type": "code",
   "execution_count": 1,
   "id": "ec604f59",
   "metadata": {},
   "outputs": [],
   "source": [
    "from bokeh.plotting import figure, show\n",
    "from bokeh.models import ColumnDataSource\n",
    "\n",
    "# Sample data\n",
    "x = [1, 2, 3, 4, 5]\n",
    "y1 = [6, 7, 2, 4, 5]\n",
    "y2 = [2, 3, 4, 5, 6]\n",
    "\n",
    "# Create a ColumnDataSource for each layer\n",
    "source1 = ColumnDataSource(data=dict(x=x, y=y1))\n",
    "source2 = ColumnDataSource(data=dict(x=x, y=y2))\n",
    "\n",
    "# Create a figure\n",
    "p = figure(title=\"Custom Layers Example\", x_axis_label='x', y_axis_label='y')\n",
    "\n",
    "# Add custom layers\n",
    "p.line('x', 'y', source=source1, line_width=2, line_color=\"blue\", legend_label=\"Layer 1\")\n",
    "p.circle('x', 'y', source=source2, size=10, color=\"red\", legend_label=\"Layer 2\")\n",
    "\n",
    "# Customize the plot\n",
    "p.legend.location = \"top_left\"\n",
    "p.legend.click_policy=\"hide\"\n",
    "\n",
    "# Show the plot\n",
    "show(p)\n"
   ]
  },
  {
   "cell_type": "code",
   "execution_count": 3,
   "id": "3f582dad",
   "metadata": {},
   "outputs": [],
   "source": [
    "# importing the modules  \n",
    "from bokeh.plotting import figure, output_file, show  \n",
    "  \n",
    "# instantiating the figure object  \n",
    "graph = figure(title = \"Bokeh Line Graph\")  \n",
    "  \n",
    "# the points to be plotted  \n",
    "x = [1, 2, 3, 4, 5]  \n",
    "y = [5, 4, 3, 2, 1]  \n",
    "  \n",
    "# plotting the line graph  \n",
    "graph.line(x, y)  \n",
    "  \n",
    "# displaying the model  \n",
    "show(graph)"
   ]
  },
  {
   "cell_type": "code",
   "execution_count": 4,
   "id": "bc2f58ea",
   "metadata": {},
   "outputs": [],
   "source": [
    "# importing the modules \n",
    "from bokeh.plotting import figure, output_file, show \n",
    "  \n",
    "# instantiating the figure object \n",
    "graph = figure(title=\"Bokeh Line Graph\") \n",
    "  \n",
    "# the points to be plotted \n",
    "x = [1, 2, 3, 4, 5] \n",
    "y = [5, 4, 3, 2, 1] \n",
    "  \n",
    "# plotting the 1st line graph \n",
    "graph.line(x, x, legend_label=\"Line 1\") \n",
    "  \n",
    "# plotting the 2nd line graph with a \n",
    "# different color \n",
    "graph.line(y, x, legend_label=\"Line 2\", \n",
    "           line_color=\"green\") \n",
    "  \n",
    "# displaying the model \n",
    "show(graph) "
   ]
  },
  {
   "cell_type": "code",
   "execution_count": 5,
   "id": "6f1988ac",
   "metadata": {},
   "outputs": [],
   "source": [
    "# importing the modules  \n",
    "from bokeh.plotting import figure, output_file, show  \n",
    "  \n",
    "# instantiating the figure object  \n",
    "graph = figure(title = \"Bokeh Bar Graph\")  \n",
    "  \n",
    "# the points to be plotted  \n",
    "x = [1, 2, 3, 4, 5]  \n",
    "y = [1, 2, 3, 4, 5]   \n",
    "  \n",
    "# height / thickness of the plot \n",
    "height = 0.5\n",
    "  \n",
    "# plotting the bar graph  \n",
    "graph.hbar(x, right = y, height = height)  \n",
    "  \n",
    "# displaying the model  \n",
    "show(graph)"
   ]
  },
  {
   "cell_type": "code",
   "execution_count": 6,
   "id": "148e57b4",
   "metadata": {},
   "outputs": [],
   "source": [
    "# importing the modules  \n",
    "from bokeh.plotting import figure, output_file, show  \n",
    "  \n",
    "# instantiating the figure object  \n",
    "graph = figure(title = \"Bokeh Bar Graph\")  \n",
    "  \n",
    "# the points to be plotted  \n",
    "x = [1, 2, 3, 4, 5]  \n",
    "y = [1, 2, 3, 4, 5]   \n",
    "  \n",
    "# height / thickness of the plot \n",
    "width = 0.5\n",
    "  \n",
    "# plotting the bar graph  \n",
    "graph.vbar(x, top = y, width = width)  \n",
    "  \n",
    "# displaying the model  \n",
    "show(graph)"
   ]
  },
  {
   "cell_type": "code",
   "execution_count": 7,
   "id": "3f239922",
   "metadata": {},
   "outputs": [],
   "source": [
    "from bokeh.plotting import figure, output_file, show  \n",
    "from bokeh.palettes import magma  \n",
    "import random  \n",
    "  \n",
    "      \n",
    "# instantiating the figure object  \n",
    "graph = figure(title = \"Bokeh Scatter Graph\")  \n",
    "  \n",
    "# points to be plotted  \n",
    "x = [n for n in range(256)]  \n",
    "y = [random.random() + 1 for n in range(256)]  \n",
    "  \n",
    "  \n",
    "# plotting the graph  \n",
    "graph.scatter(x, y)  \n",
    "  \n",
    "# displaying the model  \n",
    "show(graph)"
   ]
  },
  {
   "cell_type": "code",
   "execution_count": null,
   "id": "ea09198d",
   "metadata": {},
   "outputs": [],
   "source": []
  }
 ],
 "metadata": {
  "kernelspec": {
   "display_name": "Python 3 (ipykernel)",
   "language": "python",
   "name": "python3"
  },
  "language_info": {
   "codemirror_mode": {
    "name": "ipython",
    "version": 3
   },
   "file_extension": ".py",
   "mimetype": "text/x-python",
   "name": "python",
   "nbconvert_exporter": "python",
   "pygments_lexer": "ipython3",
   "version": "3.11.5"
  }
 },
 "nbformat": 4,
 "nbformat_minor": 5
}
